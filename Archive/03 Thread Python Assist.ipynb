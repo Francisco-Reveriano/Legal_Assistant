{
 "cells": [
  {
   "cell_type": "code",
   "id": "initial_id",
   "metadata": {
    "collapsed": true,
    "ExecuteTime": {
     "end_time": "2025-02-15T03:32:18.781663Z",
     "start_time": "2025-02-15T03:32:18.777319Z"
    }
   },
   "source": [
    "from dotenv import load_dotenv\n",
    "from openai import OpenAI\n",
    "# Load environment variables from .env\n",
    "from IPython.display import Markdown\n",
    "import os\n",
    "\n",
    "load_dotenv()"
   ],
   "outputs": [
    {
     "data": {
      "text/plain": [
       "True"
      ]
     },
     "execution_count": 4,
     "metadata": {},
     "output_type": "execute_result"
    }
   ],
   "execution_count": 4
  },
  {
   "metadata": {
    "ExecuteTime": {
     "end_time": "2025-02-15T03:33:19.728834Z",
     "start_time": "2025-02-15T03:33:12.915969Z"
    }
   },
   "cell_type": "code",
   "source": [
    "client = OpenAI()\n",
    "thread = client.beta.threads.create(\n",
    "    messages=[\n",
    "        {\n",
    "            \"role\": \"user\",\n",
    "            \"content\": \"You are a .CVS file generator\"\n",
    "        },\n",
    "        {\n",
    "            \"role\": \"user\",\n",
    "            \"content\": \"Create a dummy csv file\"\n",
    "        }\n",
    "    ]\n",
    ")\n",
    "run = client.beta.threads.runs.create_and_poll(\n",
    "    thread_id=thread.id, assistant_id=os.getenv(\"Full_Knowledge_Library_Assistant_ID\"),\n",
    ")"
   ],
   "id": "367d1bd998471f1a",
   "outputs": [],
   "execution_count": 8
  },
  {
   "metadata": {
    "ExecuteTime": {
     "end_time": "2025-02-15T03:51:13.171956Z",
     "start_time": "2025-02-15T03:51:12.979017Z"
    }
   },
   "cell_type": "code",
   "source": [
    "m2 = client.beta.threads.messages.list(thread_id=thread.id, run_id=run.id)\n",
    "m3 = m2.data[0]\n",
    "m3"
   ],
   "id": "14f0ad1502a5d725",
   "outputs": [
    {
     "data": {
      "text/plain": [
       "Message(id='msg_RTOCvG0QKFFr8f3JSfLY1lWE', assistant_id='asst_rCvQci8VClxoFwnUKgrdJUE4', attachments=[], completed_at=None, content=[TextContentBlock(text=Text(annotations=[], value='To create a dummy CSV file, I can provide you with sample data that you can save as a CSV file. Here’s an example of how the data might look:\\n\\n```plaintext\\nName, Age, Email, Country\\nJohn Doe, 28, johndoe@example.com, USA\\nJane Smith, 34, janesmith@example.com, UK\\nEmily Davis, 22, emilydavis@example.com, Canada\\nMichael Brown, 45, michaelbrown@example.com, Australia\\nSophia Wilson, 29, sophiawilson@example.com, Germany\\n```\\n\\nYou can copy the above data into a text editor and save it with a `.csv` extension, such as `dummy_data.csv`. This will create a CSV file with columns for Name, Age, Email, and Country.'), type='text')], created_at=1739590396, incomplete_at=None, incomplete_details=None, metadata={}, object='thread.message', role='assistant', run_id='run_AV2lZ9rFfAk2nokZ9OCkenGl', status=None, thread_id='thread_LJaRAi7vReRpkb5VIV0O2vKM')"
      ]
     },
     "execution_count": 40,
     "metadata": {},
     "output_type": "execute_result"
    }
   ],
   "execution_count": 40
  },
  {
   "metadata": {
    "ExecuteTime": {
     "end_time": "2025-02-15T03:49:12.040009Z",
     "start_time": "2025-02-15T03:49:11.853535Z"
    }
   },
   "cell_type": "code",
   "source": [
    "m = client.beta.threads.messages.retrieve(message_id=\"msg_RTOCvG0QKFFr8f3JSfLY1lWE\", thread_id=thread.id)\n",
    "m"
   ],
   "id": "2a25e5dc733c068b",
   "outputs": [
    {
     "data": {
      "text/plain": [
       "Message(id='msg_RTOCvG0QKFFr8f3JSfLY1lWE', assistant_id='asst_rCvQci8VClxoFwnUKgrdJUE4', attachments=[], completed_at=None, content=[TextContentBlock(text=Text(annotations=[], value='To create a dummy CSV file, I can provide you with sample data that you can save as a CSV file. Here’s an example of how the data might look:\\n\\n```plaintext\\nName, Age, Email, Country\\nJohn Doe, 28, johndoe@example.com, USA\\nJane Smith, 34, janesmith@example.com, UK\\nEmily Davis, 22, emilydavis@example.com, Canada\\nMichael Brown, 45, michaelbrown@example.com, Australia\\nSophia Wilson, 29, sophiawilson@example.com, Germany\\n```\\n\\nYou can copy the above data into a text editor and save it with a `.csv` extension, such as `dummy_data.csv`. This will create a CSV file with columns for Name, Age, Email, and Country.'), type='text')], created_at=1739590396, incomplete_at=None, incomplete_details=None, metadata={}, object='thread.message', role='assistant', run_id='run_AV2lZ9rFfAk2nokZ9OCkenGl', status=None, thread_id='thread_LJaRAi7vReRpkb5VIV0O2vKM')"
      ]
     },
     "execution_count": 33,
     "metadata": {},
     "output_type": "execute_result"
    }
   ],
   "execution_count": 33
  },
  {
   "metadata": {
    "ExecuteTime": {
     "end_time": "2025-02-15T03:49:36.491522Z",
     "start_time": "2025-02-15T03:49:36.488056Z"
    }
   },
   "cell_type": "code",
   "source": "m.attachments",
   "id": "57117d83bc6b39e0",
   "outputs": [
    {
     "data": {
      "text/plain": [
       "[]"
      ]
     },
     "execution_count": 35,
     "metadata": {},
     "output_type": "execute_result"
    }
   ],
   "execution_count": 35
  },
  {
   "metadata": {
    "ExecuteTime": {
     "end_time": "2025-02-15T03:58:05.418395Z",
     "start_time": "2025-02-15T03:57:58.089154Z"
    }
   },
   "cell_type": "code",
   "source": [
    "client = OpenAI()\n",
    "thread = client.beta.threads.create(\n",
    "    messages=[\n",
    "        {\n",
    "            \"role\": \"user\",\n",
    "            \"content\": \"You are a .CVS file generator\"\n",
    "        },\n",
    "        {\n",
    "            \"role\": \"user\",\n",
    "            \"content\": \"Create a csv file from this input: \\n  ```\\n  Name, Age, City, Email\\n  John Doe, 28, New York, johndoe@example.com\\n  Jane Smith, 34, Los Angeles, janesmith@example.com\\n  Alice Johnson, 29, Chicago, alicejohnson@example.com\\n  Bob Brown, 40, Houston, bobbrown@example.com\\n  Emily Davis, 22, Miami, emilydavis@example.com\\n \"\n",
    "        }\n",
    "    ]\n",
    ")\n",
    "run = client.beta.threads.runs.create_and_poll(\n",
    "    thread_id=thread.id, assistant_id=\n",
    ")"
   ],
   "id": "8517e5b112468eae",
   "outputs": [],
   "execution_count": 44
  },
  {
   "metadata": {
    "ExecuteTime": {
     "end_time": "2025-02-15T03:58:06.460812Z",
     "start_time": "2025-02-15T03:58:06.306411Z"
    }
   },
   "cell_type": "code",
   "source": [
    "m2 = client.beta.threads.messages.list(thread_id=thread.id, run_id=run.id)\n",
    "m3 = m2.data[0]\n",
    "m3"
   ],
   "id": "bb54cab89cd5e89b",
   "outputs": [
    {
     "data": {
      "text/plain": [
       "Message(id='msg_5T7g0UKCQ9TESPq6GUFXiOjQ', assistant_id='asst_TVnMvpRbNlVKPoH1LdXO53wV', attachments=[], completed_at=None, content=[TextContentBlock(text=Text(annotations=[], value=\"To create a CSV file from the given Markdown text, I'll format the data into CSV format and provide you with a downloadable file. Here's a preview of the CSV content:\\n\\n```plaintext\\nName,Age,City,Email\\nJohn Doe,28,New York,johndoe@example.com\\nJane Smith,34,Los Angeles,janesmith@example.com\\nAlice Johnson,29,Chicago,alicejohnson@example.com\\nBob Brown,40,Houston,bobbrown@example.com\\nEmily Davis,22,Miami,emilydavis@example.com\\n```\\n\\nI'll generate this CSV file for you now.\"), type='text')], created_at=1739591883, incomplete_at=None, incomplete_details=None, metadata={}, object='thread.message', role='assistant', run_id='run_OD6BDFJ8LQHU3o8PGXxMVbzV', status=None, thread_id='thread_e6esOnWSxUkkd8ZouGz3dCIw')"
      ]
     },
     "execution_count": 45,
     "metadata": {},
     "output_type": "execute_result"
    }
   ],
   "execution_count": 45
  }
 ],
 "metadata": {
  "kernelspec": {
   "display_name": "Python 3",
   "language": "python",
   "name": "python3"
  },
  "language_info": {
   "codemirror_mode": {
    "name": "ipython",
    "version": 2
   },
   "file_extension": ".py",
   "mimetype": "text/x-python",
   "name": "python",
   "nbconvert_exporter": "python",
   "pygments_lexer": "ipython2",
   "version": "2.7.6"
  }
 },
 "nbformat": 4,
 "nbformat_minor": 5
}
