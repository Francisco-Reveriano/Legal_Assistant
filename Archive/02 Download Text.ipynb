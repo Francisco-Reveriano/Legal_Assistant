{
 "cells": [
  {
   "cell_type": "code",
   "id": "initial_id",
   "metadata": {
    "collapsed": true,
    "ExecuteTime": {
     "end_time": "2025-02-15T04:58:14.657902Z",
     "start_time": "2025-02-15T04:58:11.646123Z"
    }
   },
   "source": [
    "import pandas as pd\n",
    "from openai import OpenAI\n",
    "# Load environment variables from .env\n",
    "from dotenv import load_dotenv\n",
    "import os\n",
    "from prompts.prompts import *\n",
    "from streamlit.testing.v1.element_tree import Markdown\n",
    "from IPython.display import display, Markdown\n",
    "\n",
    "load_dotenv()"
   ],
   "outputs": [
    {
     "data": {
      "text/plain": [
       "True"
      ]
     },
     "execution_count": 1,
     "metadata": {},
     "output_type": "execute_result"
    }
   ],
   "execution_count": 1
  },
  {
   "metadata": {
    "ExecuteTime": {
     "end_time": "2025-02-15T04:58:14.668651Z",
     "start_time": "2025-02-15T04:58:14.662431Z"
    }
   },
   "cell_type": "code",
   "source": [
    "with open(\"conversation.txt\", \"r\", encoding=\"utf-8\") as file:\n",
    "    content = file.read()"
   ],
   "id": "479a502d342f2c4f",
   "outputs": [],
   "execution_count": 2
  },
  {
   "metadata": {
    "ExecuteTime": {
     "end_time": "2025-02-15T04:58:18.336560Z",
     "start_time": "2025-02-15T04:58:14.906757Z"
    }
   },
   "cell_type": "code",
   "source": [
    "\n",
    "\n",
    "client = OpenAI(api_key=os.getenv(\"OPENAI_API_KEY\"))\n",
    "completion = client.chat.completions.create(\n",
    "    model=\"gpt-4o-mini\",\n",
    "    messages=[\n",
    "        {\"role\": \"developer\", \"content\": markdown_to_csv_prompt},\n",
    "        {\n",
    "            \"role\": \"user\",\n",
    "            \"content\": content,\n",
    "        }\n",
    "    ]\n",
    ")\n",
    "\n",
    "display(Markdown(completion.choices[0].message.content))"
   ],
   "id": "f7b9572c98fb062a",
   "outputs": [
    {
     "data": {
      "text/plain": [
       "<IPython.core.display.Markdown object>"
      ],
      "text/markdown": "Business Requirements (Exact Legal Text),Simplified Interpretation (Plain English),Requirements,Permissions,Prohibitions\n\"An FDIC-supervised institution must calculate at least weekly a comprehensive risk measure that captures all price risk.\",\"Banks must measure and report their trading risks every week.\",\"Calculate comprehensive risk weekly.\",\"Use internal models for calculation.\",\"Cannot omit any price risk factors in the calculation.\"\n\"The internal model must measure comprehensive risk over a one-year time horizon at a one-tail, 99.9 percent confidence level.\",\"Risk models must predict one year ahead with 99.9% certainty.\",\"Use a one-year time horizon and 99.9% confidence level.\",\"Use either constant risk or constant positions assumptions.\",\"Models cannot use lower confidence levels.\"\n\"The model must capture all material price risk, including risks associated with cash flow structures, credit spread risk, and volatility of implied correlations.\",\"Models must account for all significant financial risks, including those from cash flows and market volatility.\",\"Include all significant price risks in the model.\",\"Include dynamic hedging benefits if conditions are met.\",\"Exclude any significant price risks.\""
     },
     "metadata": {},
     "output_type": "display_data"
    }
   ],
   "execution_count": 3
  },
  {
   "metadata": {
    "ExecuteTime": {
     "end_time": "2025-02-15T04:58:21.536609Z",
     "start_time": "2025-02-15T04:58:21.507503Z"
    }
   },
   "cell_type": "code",
   "source": [
    "from io import StringIO\n",
    "\n",
    "StringData = StringIO(completion.choices[0].message.content)\n",
    "\n",
    "df = pd.read_csv(StringData, sep=\",\")\n",
    "df"
   ],
   "id": "5872d43eac8c53bd",
   "outputs": [
    {
     "data": {
      "text/plain": [
       "            Business Requirements (Exact Legal Text)  \\\n",
       "0  An FDIC-supervised institution must calculate ...   \n",
       "1  The internal model must measure comprehensive ...   \n",
       "2  The model must capture all material price risk...   \n",
       "\n",
       "           Simplified Interpretation (Plain English)  \\\n",
       "0  Banks must measure and report their trading ri...   \n",
       "1  Risk models must predict one year ahead with 9...   \n",
       "2  Models must account for all significant financ...   \n",
       "\n",
       "                                        Requirements  \\\n",
       "0               Calculate comprehensive risk weekly.   \n",
       "1  Use a one-year time horizon and 99.9% confiden...   \n",
       "2  Include all significant price risks in the model.   \n",
       "\n",
       "                                         Permissions  \\\n",
       "0               Use internal models for calculation.   \n",
       "1  Use either constant risk or constant positions...   \n",
       "2  Include dynamic hedging benefits if conditions...   \n",
       "\n",
       "                                        Prohibitions  \n",
       "0  Cannot omit any price risk factors in the calc...  \n",
       "1         Models cannot use lower confidence levels.  \n",
       "2               Exclude any significant price risks.  "
      ],
      "text/html": [
       "<div>\n",
       "<style scoped>\n",
       "    .dataframe tbody tr th:only-of-type {\n",
       "        vertical-align: middle;\n",
       "    }\n",
       "\n",
       "    .dataframe tbody tr th {\n",
       "        vertical-align: top;\n",
       "    }\n",
       "\n",
       "    .dataframe thead th {\n",
       "        text-align: right;\n",
       "    }\n",
       "</style>\n",
       "<table border=\"1\" class=\"dataframe\">\n",
       "  <thead>\n",
       "    <tr style=\"text-align: right;\">\n",
       "      <th></th>\n",
       "      <th>Business Requirements (Exact Legal Text)</th>\n",
       "      <th>Simplified Interpretation (Plain English)</th>\n",
       "      <th>Requirements</th>\n",
       "      <th>Permissions</th>\n",
       "      <th>Prohibitions</th>\n",
       "    </tr>\n",
       "  </thead>\n",
       "  <tbody>\n",
       "    <tr>\n",
       "      <th>0</th>\n",
       "      <td>An FDIC-supervised institution must calculate ...</td>\n",
       "      <td>Banks must measure and report their trading ri...</td>\n",
       "      <td>Calculate comprehensive risk weekly.</td>\n",
       "      <td>Use internal models for calculation.</td>\n",
       "      <td>Cannot omit any price risk factors in the calc...</td>\n",
       "    </tr>\n",
       "    <tr>\n",
       "      <th>1</th>\n",
       "      <td>The internal model must measure comprehensive ...</td>\n",
       "      <td>Risk models must predict one year ahead with 9...</td>\n",
       "      <td>Use a one-year time horizon and 99.9% confiden...</td>\n",
       "      <td>Use either constant risk or constant positions...</td>\n",
       "      <td>Models cannot use lower confidence levels.</td>\n",
       "    </tr>\n",
       "    <tr>\n",
       "      <th>2</th>\n",
       "      <td>The model must capture all material price risk...</td>\n",
       "      <td>Models must account for all significant financ...</td>\n",
       "      <td>Include all significant price risks in the model.</td>\n",
       "      <td>Include dynamic hedging benefits if conditions...</td>\n",
       "      <td>Exclude any significant price risks.</td>\n",
       "    </tr>\n",
       "  </tbody>\n",
       "</table>\n",
       "</div>"
      ]
     },
     "execution_count": 4,
     "metadata": {},
     "output_type": "execute_result"
    }
   ],
   "execution_count": 4
  },
  {
   "metadata": {
    "ExecuteTime": {
     "end_time": "2025-02-15T04:56:19.579949Z",
     "start_time": "2025-02-15T04:56:19.513001Z"
    }
   },
   "cell_type": "code",
   "source": "df.to_excel(\"conversation.xlsx\")",
   "id": "f3f306cac36b03f9",
   "outputs": [],
   "execution_count": 73
  },
  {
   "metadata": {},
   "cell_type": "markdown",
   "source": "### Output in CSV ",
   "id": "7bdfa73bd44d873b"
  },
  {
   "metadata": {
    "ExecuteTime": {
     "end_time": "2025-02-15T04:22:11.468586Z",
     "start_time": "2025-02-15T04:22:11.462986Z"
    }
   },
   "cell_type": "code",
   "source": [
    "# Open a file in write mode and write the string\n",
    "file_path = \"output.csv\"\n",
    "# Delete the file if it already exists\n",
    "if os.path.exists(file_path):\n",
    "    os.remove(file_path)\n",
    "    print(f\"Deleted existing file: {file_path}\")\n",
    "\n",
    "\n",
    "def clean_and_write_to_file(content: str) -> str:\n",
    "    # Strip triple quotes if they exist at the start and end\n",
    "    cleaned_content = content.strip('''''')\n",
    "    return cleaned_content\n",
    "\n",
    "\n",
    "with open(file_path, \"w\", newline=\"\") as file:\n",
    "    file.write(clean_and_write_to_file(str(completion.choices[0].message.content)))"
   ],
   "id": "79daa146decd992a",
   "outputs": [
    {
     "name": "stdout",
     "output_type": "stream",
     "text": [
      "Deleted existing file: output.csv\n"
     ]
    }
   ],
   "execution_count": 64
  },
  {
   "metadata": {},
   "cell_type": "code",
   "source": [
    "markdown_checker_prompt = '''\n",
    "# Task Instructions\n",
    "\n",
    "- Extract and return **only** the table(s) present in the provided Markdown file.\n",
    "- **Do not** include any additional text, explanations, or formatting outside of the table.\n",
    "- Ensure the extracted table retains its **original structure and proper formatting** for Markdown compatibility.\n",
    "- Ensure that the output can be saved as an CSV file\n",
    "\n",
    "\n",
    "'''\n",
    "\n",
    "client = OpenAI(api_key=os.getenv(\"OPENAI_API_KEY\"))\n",
    "completion = client.chat.completions.create(\n",
    "    model=\"gpt-3.5-turbo\",\n",
    "    messages=[\n",
    "        {\"role\": \"developer\", \"content\": markdown_checker_prompt},\n",
    "        {\n",
    "            \"role\": \"user\",\n",
    "            \"content\": content,\n",
    "        }\n",
    "    ]\n",
    ")\n",
    "\n",
    "print(completion.choices[0].message.content)\n"
   ],
   "id": "97e64011c7d314db",
   "outputs": [],
   "execution_count": null
  },
  {
   "metadata": {},
   "cell_type": "code",
   "source": [
    "import mdpd\n",
    "\n",
    "df = mdpd.from_md(completion.choices[0].message.content)\n",
    "print(df)"
   ],
   "id": "7f967cb497450364",
   "outputs": [],
   "execution_count": null
  },
  {
   "metadata": {},
   "cell_type": "code",
   "source": "df.to_excel(\"conversation.xlsx\")",
   "id": "beb894765d26a91f",
   "outputs": [],
   "execution_count": null
  },
  {
   "metadata": {},
   "cell_type": "code",
   "source": [
    "import markdown\n",
    "\n",
    "\n",
    "def markdown_to_html(md_file, html_file):\n",
    "    # Read the Markdown file\n",
    "    with open(md_file, \"r\", encoding=\"utf-8\") as f:\n",
    "        md_content = f.read()\n",
    "\n",
    "    # Convert Markdown to HTML\n",
    "    html_content = markdown.markdown(md_content)\n",
    "\n",
    "    # Write the HTML output to a file\n",
    "    with open(html_file, \"w\", encoding=\"utf-8\") as f:\n",
    "        f.write(html_content)\n",
    "\n",
    "\n",
    "# Example usage\n",
    "markdown_to_html(completion.choices[0].message.content, \"output.html\")"
   ],
   "id": "57c96305df143b7b",
   "outputs": [],
   "execution_count": null
  },
  {
   "metadata": {},
   "cell_type": "code",
   "source": [
    "client = OpenAI(api_key=os.getenv(\"OPENAI_API_KEY\"))\n",
    "completion = client.chat.completions.create(\n",
    "    model=\"gpt-4o\",\n",
    "    messages=[\n",
    "        {\"role\": \"developer\", \"content\": \"convert output to an excel file\"},\n",
    "        {\n",
    "            \"role\": \"user\",\n",
    "            \"content\": content,\n",
    "        }\n",
    "    ]\n",
    ")"
   ],
   "id": "d532c488ec5bc4f7",
   "outputs": [],
   "execution_count": null
  },
  {
   "metadata": {},
   "cell_type": "code",
   "source": "completion",
   "id": "74066997dfc76eb6",
   "outputs": [],
   "execution_count": null
  },
  {
   "metadata": {},
   "cell_type": "code",
   "source": "client.files.list()",
   "id": "efe497d240a0efea",
   "outputs": [],
   "execution_count": null
  }
 ],
 "metadata": {
  "kernelspec": {
   "display_name": "Python 3",
   "language": "python",
   "name": "python3"
  },
  "language_info": {
   "codemirror_mode": {
    "name": "ipython",
    "version": 2
   },
   "file_extension": ".py",
   "mimetype": "text/x-python",
   "name": "python",
   "nbconvert_exporter": "python",
   "pygments_lexer": "ipython2",
   "version": "2.7.6"
  }
 },
 "nbformat": 4,
 "nbformat_minor": 5
}
