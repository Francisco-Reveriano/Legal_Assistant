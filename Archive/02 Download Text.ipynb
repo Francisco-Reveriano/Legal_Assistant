{
 "cells": [
  {
   "cell_type": "code",
   "id": "initial_id",
   "metadata": {
    "collapsed": true,
    "ExecuteTime": {
     "end_time": "2025-02-15T04:10:11.870236Z",
     "start_time": "2025-02-15T04:10:11.022123Z"
    }
   },
   "source": [
    "import pandas as pd\n",
    "from openai import OpenAI\n",
    "# Load environment variables from .env\n",
    "from dotenv import load_dotenv\n",
    "import os\n",
    "\n",
    "from streamlit.testing.v1.element_tree import Markdown\n",
    "from IPython.display import display, Markdown\n",
    "\n",
    "\n",
    "load_dotenv()"
   ],
   "outputs": [
    {
     "data": {
      "text/plain": [
       "True"
      ]
     },
     "execution_count": 47,
     "metadata": {},
     "output_type": "execute_result"
    }
   ],
   "execution_count": 47
  },
  {
   "metadata": {
    "ExecuteTime": {
     "end_time": "2025-02-15T03:59:46.870613Z",
     "start_time": "2025-02-15T03:59:46.864516Z"
    }
   },
   "cell_type": "code",
   "source": [
    "with open(\"conversation.txt\", \"r\", encoding=\"utf-8\") as file:\n",
    "    content = file.read()\n",
    "print(content)"
   ],
   "id": "479a502d342f2c4f",
   "outputs": [
    {
     "name": "stdout",
     "output_type": "stream",
     "text": [
      "User: Summarize Regulation in Complete Detail. \n",
      "\n",
      "Assistant: **Response:**\n",
      "\n",
      "To provide a comprehensive summary and detailed extraction of the regulation from the provided document, I'll need to first identify the specific regulatory text. Based on the search results, I'll focus on the relevant excerpts from the files. Let's extract and summarize one of the regulations.\n",
      "\n",
      "### Regulation Summary\n",
      "\n",
      "The regulation under review is primarily concerned with the comprehensive risk measurement and management of FDIC-supervised institutions, specifically targeting the price risk associated with correlation trading portfolios. It mandates the use of internal models to assess all price risks at a high confidence level and requires regular reporting and validation of these models. The regulation also stipulates specific requirements for capturing material price risks, such as credit spread risk and recovery rate volatility, while allowing for dynamic hedging benefits under certain conditions. This framework aims to enhance the risk management practices of financial institutions, ensuring robust oversight and mitigation of potential financial risks[0].\n",
      "\n",
      "---\n",
      "\n",
      "| **Business Requirements (Exact Legal Text)** | **Simplified Interpretation (Plain English)** | **Detailed Breakdown (Requirements, Permissions, Prohibitions)** |\n",
      "|---------------------------------------------|----------------------------------------------|------------------------------------------------|\n",
      "| An FDIC-supervised institution must calculate at least weekly a comprehensive risk measure that captures all price risk. | Banks must measure and report their trading risks every week. | - **Requirement:** Calculate comprehensive risk weekly. <br> - **Permission:** Use internal models for calculation. <br> - **Prohibition:** Cannot omit any price risk factors in the calculation. |\n",
      "| The internal model must measure comprehensive risk over a one-year time horizon at a one-tail, 99.9 percent confidence level. | Risk models must predict one year ahead with 99.9% certainty. | - **Requirement:** Use a one-year time horizon and 99.9% confidence level. <br> - **Permission:** Use either constant risk or constant positions assumptions. <br> - **Prohibition:** Models cannot use lower confidence levels. |\n",
      "| The model must capture all material price risk, including risks associated with cash flow structures, credit spread risk, and volatility of implied correlations. | Models must account for all significant financial risks, including those from cash flows and market volatility. | - **Requirement:** Include all significant price risks in the model. <br> - **Permission:** Include dynamic hedging benefits if conditions are met. <br> - **Prohibition:** Exclude any significant price risks. |\n",
      "\n",
      "This table captures the essential regulatory requirements, translating complex legal text into actionable business requirements while detailing what is required, permitted, and prohibited[0].\n",
      "\n",
      "**Citations:**\n",
      "\n",
      "[0] CFR-2024-title12-vol5.txt\n",
      "[1] CFR-2024-title12-vol5.txt\n",
      "\n",
      "\n"
     ]
    }
   ],
   "execution_count": 33
  },
  {
   "metadata": {
    "ExecuteTime": {
     "end_time": "2025-02-15T04:23:55.267925Z",
     "start_time": "2025-02-15T04:23:51.208746Z"
    }
   },
   "cell_type": "code",
   "source": [
    "markdown_checker_prompt = '''\n",
    "# Markdown Checker and Fixer\n",
    "        ## Instruction\n",
    "        You are a **Markdown checker and fixer**. Your task is to:\n",
    "\n",
    "        1. **Analyze** the given Markdown text for any **formatting errors, inconsistencies, or structural issues**.\n",
    "        2. **Identify** specific errors, such as:\n",
    "           - Incorrect or missing syntax (e.g., headings, lists, code blocks, links, images).\n",
    "           - Improper spacing or indentation.\n",
    "           - Unclosed tags or formatting inconsistencies.\n",
    "           - Any deviations from standard Markdown best practices.\n",
    "        3. **Fix** all identified issues to produce a **correct and well-structured Markdown document**.\n",
    "        4. **Ensure readability and proper rendering** across different Markdown parsers.\n",
    "        5. **Preserve the original intent and content** of the text while improving its formatting.\n",
    "\n",
    "        ## Final Notes\n",
    "        - If the input is already valid Markdown, return it unchanged.\n",
    "        - Think step by step and explain the fixes if needed.\n",
    "        - Ensure the corrected output strictly follows Markdown syntax rules.\n",
    "        - Do not add any additional comments or statements.\n",
    "'''\n",
    "\n",
    "client = OpenAI(api_key=os.getenv(\"OPENAI_API_KEY\"))\n",
    "completion = client.chat.completions.create(\n",
    "    model=\"gpt-3.5-turbo\",\n",
    "    messages=[\n",
    "        {\"role\": \"developer\", \"content\": markdown_checker_prompt},\n",
    "        {\n",
    "            \"role\": \"user\",\n",
    "            \"content\": content,\n",
    "        }\n",
    "    ]\n",
    ")\n",
    "\n",
    "display(completion.choices[0].message.content)\n"
   ],
   "id": "af394f6e4e0ddf13",
   "outputs": [
    {
     "data": {
      "text/plain": [
       "'### Regulation Summary\\n\\nThe document provides a detailed summary of a regulation focusing on the risk measurement and management requirements for FDIC-supervised institutions, particularly concerning price risk in correlation trading portfolios. The regulation mandates the use of internal models to assess price risks with high confidence, specifies reporting and validation requirements for these models, and outlines conditions for capturing material price risks like credit spread risk and recovery rate volatility. It allows for dynamic hedging benefits under certain criteria to bolster risk management practices and ensure effective oversight and mitigation of financial risks.\\n\\n---\\n\\n| **Business Requirements (Exact Legal Text)** | **Simplified Interpretation (Plain English)** | **Detailed Breakdown (Requirements, Permissions, Prohibitions)** |\\n|---------------------------------------------|----------------------------------------------|------------------------------------------------|\\n| An FDIC-supervised institution must calculate at least weekly a comprehensive risk measure that captures all price risk. | Banks must calculate their trading risks weekly. | - **Requirement:** Calculate comprehensive risk weekly. <br> - **Permission:** Use internal models for calculation. <br> - **Prohibition:** Must include all price risk factors in the calculation. |\\n| The internal model must measure comprehensive risk over a one-year time horizon at a one-tail, 99.9 percent confidence level. | Risk models must forecast one year ahead with a 99.9% certainty. | - **Requirement:** Use a one-year time horizon and 99.9% confidence level. <br> - **Permission:** Employ constant risk or constant positions assumptions. <br> - **Prohibition:** Models cannot use confidence levels lower than 99.9%. |\\n| The model must capture all material price risk, including risks associated with cash flow structures, credit spread risk, and volatility of implied correlations. | Models must consider all significant financial risks, including cash flow and market volatility risks. | - **Requirement:** Include all significant price risks in the model. <br> - **Permission:** Include dynamic hedging benefits based on specified conditions. <br> - **Prohibition:** Models must not exclude any significant price risks. |\\n\\nThis summary clarifies the regulatory requirements, translating complex legal language into understandable business directives while highlighting what is necessary, allowed, and restricted to comply with the regulation.'"
      ]
     },
     "metadata": {},
     "output_type": "display_data"
    }
   ],
   "execution_count": 66
  },
  {
   "metadata": {
    "ExecuteTime": {
     "end_time": "2025-02-15T04:22:05.743791Z",
     "start_time": "2025-02-15T04:22:01.161008Z"
    }
   },
   "cell_type": "code",
   "source": [
    "markdown_checker_prompt = '''\n",
    "### Instruction ###\n",
    "Extract the table from the input text and convert it into CSV format.\n",
    "\n",
    "- Ensure that all table contents are fully extracted.\n",
    "- From the column **\"Detailed Breakdown (Requirements, Permissions, Prohibitions)\"**, split its contents into three separate columns: **\"Requirements\"**, **\"Permissions\"**, and **\"Prohibitions\"**.\n",
    "- Double-check the format to ensure correctness.\n",
    "- Output **only** the CSV data, with no additional text or explanations.\n",
    "- Final headers should be: Business Requirements (Exact Legal Text), Simplified Interpretation (Plain English), Requirements, Permissions, Prohibitions.\n",
    "- If there is no table reply \"NO_TABLE\"\n",
    "\n",
    "Ensure proper formatting for CSV conversion.\n",
    "\n",
    "'''\n",
    "\n",
    "\n",
    "client = OpenAI(api_key=os.getenv(\"OPENAI_API_KEY\"))\n",
    "completion = client.chat.completions.create(\n",
    "    model=\"gpt-4o-mini\",\n",
    "    messages=[\n",
    "        {\"role\": \"developer\", \"content\": markdown_checker_prompt},\n",
    "        {\n",
    "            \"role\": \"user\",\n",
    "            \"content\": content,\n",
    "        }\n",
    "    ]\n",
    ")\n",
    "\n",
    "display(Markdown(completion.choices[0].message.content))"
   ],
   "id": "f7b9572c98fb062a",
   "outputs": [
    {
     "data": {
      "text/plain": [
       "<IPython.core.display.Markdown object>"
      ],
      "text/markdown": "Business Requirements (Exact Legal Text),Simplified Interpretation (Plain English),Requirements,Permissions,Prohibitions\n\"An FDIC-supervised institution must calculate at least weekly a comprehensive risk measure that captures all price risk.\",\"Banks must measure and report their trading risks every week.\",\"Calculate comprehensive risk weekly.\",\"Use internal models for calculation.\",\"Cannot omit any price risk factors in the calculation.\"\n\"The internal model must measure comprehensive risk over a one-year time horizon at a one-tail, 99.9 percent confidence level.\",\"Risk models must predict one year ahead with 99.9% certainty.\",\"Use a one-year time horizon and 99.9% confidence level.\",\"Use either constant risk or constant positions assumptions.\",\"Models cannot use lower confidence levels.\"\n\"The model must capture all material price risk, including risks associated with cash flow structures, credit spread risk, and volatility of implied correlations.\",\"Models must account for all significant financial risks, including those from cash flows and market volatility.\",\"Include all significant price risks in the model.\",\"Include dynamic hedging benefits if conditions are met.\",\"Exclude any significant price risks.\""
     },
     "metadata": {},
     "output_type": "display_data"
    }
   ],
   "execution_count": 62
  },
  {
   "metadata": {
    "ExecuteTime": {
     "end_time": "2025-02-15T04:22:09.643047Z",
     "start_time": "2025-02-15T04:22:09.640767Z"
    }
   },
   "cell_type": "code",
   "source": "print(completion.choices[0].message.content)",
   "id": "5872d43eac8c53bd",
   "outputs": [
    {
     "name": "stdout",
     "output_type": "stream",
     "text": [
      "Business Requirements (Exact Legal Text),Simplified Interpretation (Plain English),Requirements,Permissions,Prohibitions\n",
      "\"An FDIC-supervised institution must calculate at least weekly a comprehensive risk measure that captures all price risk.\",\"Banks must measure and report their trading risks every week.\",\"Calculate comprehensive risk weekly.\",\"Use internal models for calculation.\",\"Cannot omit any price risk factors in the calculation.\"\n",
      "\"The internal model must measure comprehensive risk over a one-year time horizon at a one-tail, 99.9 percent confidence level.\",\"Risk models must predict one year ahead with 99.9% certainty.\",\"Use a one-year time horizon and 99.9% confidence level.\",\"Use either constant risk or constant positions assumptions.\",\"Models cannot use lower confidence levels.\"\n",
      "\"The model must capture all material price risk, including risks associated with cash flow structures, credit spread risk, and volatility of implied correlations.\",\"Models must account for all significant financial risks, including those from cash flows and market volatility.\",\"Include all significant price risks in the model.\",\"Include dynamic hedging benefits if conditions are met.\",\"Exclude any significant price risks.\"\n"
     ]
    }
   ],
   "execution_count": 63
  },
  {
   "metadata": {
    "ExecuteTime": {
     "end_time": "2025-02-15T04:22:11.468586Z",
     "start_time": "2025-02-15T04:22:11.462986Z"
    }
   },
   "cell_type": "code",
   "source": [
    "# Open a file in write mode and write the string\n",
    "file_path = \"output.csv\"\n",
    "# Delete the file if it already exists\n",
    "if os.path.exists(file_path):\n",
    "    os.remove(file_path)\n",
    "    print(f\"Deleted existing file: {file_path}\")\n",
    "\n",
    "def clean_and_write_to_file(content: str) -> str:\n",
    "    # Strip triple quotes if they exist at the start and end\n",
    "    cleaned_content = content.strip('''''')\n",
    "    return cleaned_content\n",
    "\n",
    "with open(file_path, \"w\", newline=\"\") as file:\n",
    "    file.write(clean_and_write_to_file(str(completion.choices[0].message.content)))"
   ],
   "id": "79daa146decd992a",
   "outputs": [
    {
     "name": "stdout",
     "output_type": "stream",
     "text": [
      "Deleted existing file: output.csv\n"
     ]
    }
   ],
   "execution_count": 64
  },
  {
   "metadata": {},
   "cell_type": "code",
   "source": [
    "markdown_checker_prompt = '''\n",
    "# Task Instructions\n",
    "\n",
    "- Extract and return **only** the table(s) present in the provided Markdown file.\n",
    "- **Do not** include any additional text, explanations, or formatting outside of the table.\n",
    "- Ensure the extracted table retains its **original structure and proper formatting** for Markdown compatibility.\n",
    "- Ensure that the output can be saved as an CSV file\n",
    "\n",
    "\n",
    "'''\n",
    "\n",
    "client = OpenAI(api_key=os.getenv(\"OPENAI_API_KEY\"))\n",
    "completion = client.chat.completions.create(\n",
    "    model=\"gpt-3.5-turbo\",\n",
    "    messages=[\n",
    "        {\"role\": \"developer\", \"content\": markdown_checker_prompt},\n",
    "        {\n",
    "            \"role\": \"user\",\n",
    "            \"content\": content,\n",
    "        }\n",
    "    ]\n",
    ")\n",
    "\n",
    "print(completion.choices[0].message.content)\n"
   ],
   "id": "97e64011c7d314db",
   "outputs": [],
   "execution_count": null
  },
  {
   "metadata": {},
   "cell_type": "code",
   "source": [
    "import mdpd\n",
    "\n",
    "df = mdpd.from_md(completion.choices[0].message.content)\n",
    "print(df)"
   ],
   "id": "7f967cb497450364",
   "outputs": [],
   "execution_count": null
  },
  {
   "metadata": {},
   "cell_type": "code",
   "source": "df.to_excel(\"conversation.xlsx\")",
   "id": "beb894765d26a91f",
   "outputs": [],
   "execution_count": null
  },
  {
   "metadata": {},
   "cell_type": "code",
   "source": [
    "import markdown\n",
    "\n",
    "def markdown_to_html(md_file, html_file):\n",
    "    # Read the Markdown file\n",
    "    with open(md_file, \"r\", encoding=\"utf-8\") as f:\n",
    "        md_content = f.read()\n",
    "\n",
    "    # Convert Markdown to HTML\n",
    "    html_content = markdown.markdown(md_content)\n",
    "\n",
    "    # Write the HTML output to a file\n",
    "    with open(html_file, \"w\", encoding=\"utf-8\") as f:\n",
    "        f.write(html_content)\n",
    "\n",
    "# Example usage\n",
    "markdown_to_html(completion.choices[0].message.content, \"output.html\")"
   ],
   "id": "57c96305df143b7b",
   "outputs": [],
   "execution_count": null
  },
  {
   "metadata": {},
   "cell_type": "code",
   "source": [
    "client = OpenAI(api_key=os.getenv(\"OPENAI_API_KEY\"))\n",
    "completion = client.chat.completions.create(\n",
    "    model=\"gpt-4o\",\n",
    "    messages=[\n",
    "        {\"role\": \"developer\", \"content\": \"convert output to an excel file\"},\n",
    "        {\n",
    "            \"role\": \"user\",\n",
    "            \"content\": content,\n",
    "        }\n",
    "    ]\n",
    ")"
   ],
   "id": "d532c488ec5bc4f7",
   "outputs": [],
   "execution_count": null
  },
  {
   "metadata": {},
   "cell_type": "code",
   "source": "completion",
   "id": "74066997dfc76eb6",
   "outputs": [],
   "execution_count": null
  },
  {
   "metadata": {},
   "cell_type": "code",
   "source": "client.files.list()",
   "id": "efe497d240a0efea",
   "outputs": [],
   "execution_count": null
  }
 ],
 "metadata": {
  "kernelspec": {
   "display_name": "Python 3",
   "language": "python",
   "name": "python3"
  },
  "language_info": {
   "codemirror_mode": {
    "name": "ipython",
    "version": 2
   },
   "file_extension": ".py",
   "mimetype": "text/x-python",
   "name": "python",
   "nbconvert_exporter": "python",
   "pygments_lexer": "ipython2",
   "version": "2.7.6"
  }
 },
 "nbformat": 4,
 "nbformat_minor": 5
}
