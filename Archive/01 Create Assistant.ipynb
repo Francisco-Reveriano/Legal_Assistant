{
 "cells": [
  {
   "cell_type": "code",
   "id": "initial_id",
   "metadata": {
    "collapsed": true,
    "ExecuteTime": {
     "end_time": "2025-02-11T02:11:58.592349Z",
     "start_time": "2025-02-11T02:11:58.590481Z"
    }
   },
   "source": "from openai import OpenAI",
   "outputs": [],
   "execution_count": 2
  },
  {
   "metadata": {},
   "cell_type": "markdown",
   "source": "## Create Assisstant",
   "id": "3a48386d8a2353cc"
  },
  {
   "metadata": {
    "ExecuteTime": {
     "end_time": "2025-02-11T02:19:20.621836Z",
     "start_time": "2025-02-11T02:19:19.680633Z"
    }
   },
   "cell_type": "code",
   "source": [
    "client = OpenAI()\n",
    "\n",
    "assistant = client.beta.assistants.create(\n",
    "  name=\"Legal_Assistant\",\n",
    "  instructions=\"You are a personal legal tutor. You interpret the legal documents based on the instructions provided.\",\n",
    "  model=\"gpt-4o\",\n",
    "  tools=[{\"type\": \"file_search\"}],\n",
    ")"
   ],
   "id": "8a4fa40fb033a2d",
   "outputs": [],
   "execution_count": 5
  },
  {
   "metadata": {
    "ExecuteTime": {
     "end_time": "2025-02-11T03:48:38.536124Z",
     "start_time": "2025-02-11T03:48:38.531023Z"
    }
   },
   "cell_type": "code",
   "source": "assistant.id",
   "id": "17515084dc70b850",
   "outputs": [
    {
     "data": {
      "text/plain": [
       "'asst_rCvQci8VClxoFwnUKgrdJUE4'"
      ]
     },
     "execution_count": 15,
     "metadata": {},
     "output_type": "execute_result"
    }
   ],
   "execution_count": 15
  },
  {
   "metadata": {},
   "cell_type": "markdown",
   "source": "## Create Vector Store",
   "id": "f73edcb792395d26"
  },
  {
   "metadata": {
    "ExecuteTime": {
     "end_time": "2025-02-11T02:21:29.349382Z",
     "start_time": "2025-02-11T02:21:23.794162Z"
    }
   },
   "cell_type": "code",
   "source": [
    "# Create a vector store caled \"Financial Statements\"\n",
    "vector_store = client.beta.vector_stores.create(name=\"Legal Documents\")\n",
    "file_paths = [\"data/raw/12 CFR Part 211 (up to date as of 2-07-2025).pdf\", \"data/raw/12 CFR Part 223 (up to date as of 2-07-2025).pdf\"]\n",
    "file_streams = [open(path, \"rb\") for path in file_paths]\n",
    "\n",
    "# Use the upload and poll SDK helper to upload the files, add them to the vector store,\n",
    "# and poll the status of the file batch for completion.\n",
    "file_batch = client.beta.vector_stores.file_batches.upload_and_poll(\n",
    "  vector_store_id=vector_store.id, files=file_streams\n",
    ")\n",
    "\n",
    "# You can print the status and the file counts of the batch to see the result of this operation.\n",
    "print(file_batch.status)\n",
    "print(file_batch.file_counts)"
   ],
   "id": "cdf30d68a45bcd46",
   "outputs": [
    {
     "name": "stdout",
     "output_type": "stream",
     "text": [
      "completed\n",
      "FileCounts(cancelled=0, completed=2, failed=0, in_progress=0, total=2)\n"
     ]
    }
   ],
   "execution_count": 6
  },
  {
   "metadata": {
    "ExecuteTime": {
     "end_time": "2025-02-11T02:22:28.585266Z",
     "start_time": "2025-02-11T02:22:27.497300Z"
    }
   },
   "cell_type": "code",
   "source": [
    "assistant = client.beta.assistants.update(\n",
    "  assistant_id=assistant.id,\n",
    "  tool_resources={\"file_search\": {\"vector_store_ids\": [vector_store.id]}},\n",
    ")"
   ],
   "id": "d82883e2cf61b1fc",
   "outputs": [],
   "execution_count": 7
  },
  {
   "metadata": {
    "ExecuteTime": {
     "end_time": "2025-02-11T04:32:50.031935Z",
     "start_time": "2025-02-11T04:32:50.027989Z"
    }
   },
   "cell_type": "code",
   "source": "assistant.id",
   "id": "2a21d074a82eec25",
   "outputs": [
    {
     "data": {
      "text/plain": [
       "'asst_rCvQci8VClxoFwnUKgrdJUE4'"
      ]
     },
     "execution_count": 17,
     "metadata": {},
     "output_type": "execute_result"
    }
   ],
   "execution_count": 17
  },
  {
   "metadata": {},
   "cell_type": "markdown",
   "source": "## Query Question",
   "id": "11ca23ede40168f8"
  },
  {
   "metadata": {
    "ExecuteTime": {
     "end_time": "2025-02-11T02:43:39.882036Z",
     "start_time": "2025-02-11T02:43:23.550350Z"
    }
   },
   "cell_type": "code",
   "source": [
    "from IPython.display import Markdown\n",
    "\n",
    "instruction_prompt = '''\n",
    "                ### Instruction:\n",
    "                1. Provide a one-line answer to the user's question in clear, non-legal language.\n",
    "                2. Create a table with three columns:\n",
    "                   - **First Column:** Explain the legal interpretation in simple, plain text without legal jargon.\n",
    "                   - **Second Column:** Translate the text into clear actionable business requirements in bullet points.\n",
    "                   - **Third Column:** Provide three bullet points explaining requirements, permissions, and prohibitions in clear language.\n",
    "                3. Double-check the format to ensure it meets these specifications.\n",
    "                4. Ensure the language is simple, precise, and free of complex terminology.\n",
    "\n",
    "                **Table Format Example:**\n",
    "\n",
    "                | Legal Interpretation (Plain Text) | Business Requirements (Simple Terms) | Key Points (Requirements, Permissions, Prohibitions) |\n",
    "                |------------------------------------|--------------------------------------|-----------------------------------------------------|\n",
    "                | [Explain legal concept simply]     | [Translate into actionable business requirements in bullet points] | - **Requirement:** [What must be done]  <br> - **Permission:** [What is allowed]  <br> - **Prohibition:** [What is not allowed] |\n",
    "                    '''\n",
    "\n",
    "thread = client.beta.threads.create(\n",
    "    messages=[\n",
    "        {\n",
    "            \"role\": \"user\",\n",
    "            \"content\": instruction_prompt\n",
    "        },\n",
    "        {\n",
    "            \"role\": \"user\",\n",
    "            \"content\": \"How do you monitor compliance with supervisory reporting requirements under § 211.13?\"\n",
    "        }\n",
    "    ]\n",
    ")\n",
    "run = client.beta.threads.runs.create_and_poll(\n",
    "    thread_id=thread.id, assistant_id=assistant.id\n",
    ")\n",
    "\n",
    "messages = list(client.beta.threads.messages.list(thread_id=thread.id, run_id=run.id))\n",
    "\n",
    "message_content = messages[0].content[0].text\n",
    "annotations = message_content.annotations\n",
    "citations = []\n",
    "for index, annotation in enumerate(annotations):\n",
    "    message_content.value = message_content.value.replace(annotation.text, f\"[{index}]\")\n",
    "    if file_citation := getattr(annotation, \"file_citation\", None):\n",
    "        cited_file = client.files.retrieve(file_citation.file_id)\n",
    "        citations.append(f\"[{index}] {cited_file.filename}\")\n",
    "\n",
    "output_text = f\"**Response:**\\n\\n{message_content.value}\\n\\n\"\n",
    "if citations:\n",
    "    output_text += \"**Citations:**\\n\\n\" + \"\\n\".join(citations)\n",
    "\n",
    "# Display in Markdown format\n",
    "display(Markdown(output_text))"
   ],
   "id": "cc3cfcf4e6aad9f7",
   "outputs": [
    {
     "data": {
      "text/plain": [
       "<IPython.core.display.Markdown object>"
      ],
      "text/markdown": "**Response:**\n\nTo monitor compliance with supervisory reporting requirements under § 211.13, organizations should maintain effective record systems, report risk asset and operation audits, ensure access to information for examiners, and file necessary reports to relevant authorities[0].\n\n| Legal Interpretation (Plain Text) | Business Requirements (Simple Terms) | Key Points (Requirements, Permissions, Prohibitions) |\n|------------------------------------|--------------------------------------|-----------------------------------------------------|\n| Banks must keep track of foreign branch activities and report to authorities. | - Set up records and control systems for activities.<br>- Regularly report on financial risks and audits.<br>- Share requested information with examiners. | - **Requirement:** Ensure accurate reporting on foreign operations.<br> - **Permission:** Maintain joint venture transaction records.<br> - **Prohibition:** Do not withhold required information from examiners. |\n\n**Citations:**\n\n[0] 12 CFR Part 211 (up to date as of 2-07-2025).pdf"
     },
     "metadata": {},
     "output_type": "display_data"
    }
   ],
   "execution_count": 14
  },
  {
   "metadata": {},
   "cell_type": "code",
   "outputs": [],
   "execution_count": null,
   "source": "",
   "id": "16c79d11db10f56d"
  }
 ],
 "metadata": {
  "kernelspec": {
   "display_name": "Python 3",
   "language": "python",
   "name": "python3"
  },
  "language_info": {
   "codemirror_mode": {
    "name": "ipython",
    "version": 2
   },
   "file_extension": ".py",
   "mimetype": "text/x-python",
   "name": "python",
   "nbconvert_exporter": "python",
   "pygments_lexer": "ipython2",
   "version": "2.7.6"
  }
 },
 "nbformat": 4,
 "nbformat_minor": 5
}
